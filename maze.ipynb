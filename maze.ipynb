{
 "cells": [
  {
   "cell_type": "code",
   "execution_count": 4,
   "metadata": {
    "Collapsed": "false"
   },
   "outputs": [],
   "source": [
    "import numpy as np\n",
    "\n",
    "class Maze:\n",
    "    def __init__(self):\n",
    "        pass\n",
    "    def initSmallMaze(self):    \n",
    "        '''\n",
    "        Method to generate an initial 9x6 Sutton's Dyna maze.\n",
    "        '''\n",
    "        # initialize empty maze\n",
    "        maze=np.empty([6, 9], dtype=str)\n",
    "\n",
    "        # Add Start\n",
    "        maze[2,0]=\"A\"\n",
    "\n",
    "        # Add Goal\n",
    "        maze[0,8]=\"G\"\n",
    "\n",
    "        # Add Walls\n",
    "        maze[1:4,2]=\"W\"\n",
    "        maze[0:3, 7]=\"W\"\n",
    "        maze[4,5]=\"W\"\n",
    "        \n",
    "        # initialize maze \n",
    "        self.maze= maze\n",
    "        \n",
    "        \n",
    "    def initPartObservMaze(self):\n",
    "        '''\n",
    "        Method to generate an initial 9x6 partially observable maze.\n",
    "        '''\n",
    "        pass\n",
    "    def initDynObstaclMaze(self):\n",
    "        '''\n",
    "        Method to generate an initial 9x6 maze with dynamically allocated obstacles.\n",
    "        '''\n",
    "        pass\n",
    "    def initDynGoalMaze(self):\n",
    "        '''\n",
    "        Method to generate an initial 9x6 maze with a dynamically allocated goal.\n",
    "        '''\n",
    "        pass\n",
    "    def initGeneralMaze(self):\n",
    "        '''\n",
    "        Method to generate an initial 9x6 maze with dynamically allocated obstacles and a dynamically allocated goal.\n",
    "        '''\n",
    "        pass\n",
    "    \n",
    "    def determineAction(self, intendedAction):\n",
    "        '''\n",
    "        Method that determines the action.\n",
    "        There is a probabilistic chance of 80 % to return the intended action.\n",
    "        20 % chance to do a random action.\n",
    "        '''\n",
    "        possibleActions= [\"up\",\"down\", \"right\", \"left\"]\n",
    "        \n",
    "        # Generate random number between 0 and 1\n",
    "        rand = np.random.random()\n",
    "        \n",
    "        # Check if the intended action is valid\n",
    "        if intendedAction not in possibleActions:\n",
    "            print(\"ERROR. You cal only choose the actions: \", possibleActions)\n",
    "        # If random number is smaller than 0.2, return random action\n",
    "        elif rand<=0.2:\n",
    "            return np.random.choice(possibleActions)\n",
    "        # return intended action\n",
    "        else:\n",
    "            return intendedAction\n",
    "            \n",
    "    \n",
    "    def move(self, intended_action_index):\n",
    "        '''\n",
    "        Method to determine the result of a move in the maze.\n",
    "        It returns next_state, reward, won\n",
    "        '''\n",
    "        \n",
    "        action = self.determineAction(self.possibleActions[intended_action_index])\n",
    "        position = np.where(self.maze == 'A')\n",
    "        prev_row, prev_col = np.asscalar(position[0]), np.asscalar(position[1])\n",
    "        row, col = prev_row, prev_col\n",
    "        goal_flag = False\n",
    "\n",
    "        if action == 'up':\n",
    "            row -= 1\n",
    "        elif action == 'down':\n",
    "            row += 1\n",
    "        elif action == 'left':\n",
    "            col -= 1\n",
    "        elif action == 'right':\n",
    "            col += 1\n",
    "\n",
    "        # Action takes it to a border:  -2\n",
    "        if row < 0 or row >= len(self.maze) or col < 0 or col >= len(self.maze[0]):\n",
    "            row, col = prev_row, prev_col\n",
    "            reward = -2\n",
    "        # Action takes it to wall :  -2\n",
    "        elif self.maze[row, col] == 'W':\n",
    "            row, col = prev_row, prev_col\n",
    "            reward = -2\n",
    "        # Action takes it to Goal :  100\n",
    "        elif self.maze[row, col] == 'G':\n",
    "            reward = 100\n",
    "            self.maze[prev_row, prev_col] = ''\n",
    "            # Resets the agent to the starting position\n",
    "            self.maze[2, 0] = 'A'\n",
    "            row, col = 2, 0\n",
    "            goal_flag = True\n",
    "        # Action takes it empty cell: -0.1\n",
    "        else:\n",
    "            reward = -0.1\n",
    "            self.maze[prev_row, prev_col] = ''\n",
    "            self.maze[row, col] = 'A'\n",
    "\n",
    "        state = row * len(self.maze[0]) + col\n",
    "\n",
    "        return state, reward, goal_flag"
   ]
  },
  {
   "cell_type": "code",
   "execution_count": 5,
   "metadata": {
    "Collapsed": "false"
   },
   "outputs": [
    {
     "data": {
      "text/plain": [
       "array([['', '', '', '', '', '', '', 'W', 'G'],\n",
       "       ['', '', 'W', '', '', '', '', 'W', ''],\n",
       "       ['A', '', 'W', '', '', '', '', 'W', ''],\n",
       "       ['', '', 'W', '', '', '', '', '', ''],\n",
       "       ['', '', '', '', '', 'W', '', '', ''],\n",
       "       ['', '', '', '', '', '', '', '', '']], dtype='<U1')"
      ]
     },
     "execution_count": 5,
     "metadata": {},
     "output_type": "execute_result"
    }
   ],
   "source": [
    "M =Maze()\n",
    "M.initSmallMaze()\n",
    "M.maze\n",
    "\n"
   ]
  },
  {
   "cell_type": "code",
   "execution_count": 45,
   "metadata": {
    "Collapsed": "false"
   },
   "outputs": [
    {
     "name": "stdout",
     "output_type": "stream",
     "text": [
      "['up', 'down', 'right', 'left']\n"
     ]
    }
   ],
   "source": [
    "possibleActions= [\"up\",\"down\", \"right\", \"left\"]\n",
    "print(possibleActions)"
   ]
  }
 ],
 "metadata": {
  "kernelspec": {
   "display_name": "Python 3",
   "language": "python",
   "name": "python3"
  },
  "language_info": {
   "codemirror_mode": {
    "name": "ipython",
    "version": 3
   },
   "file_extension": ".py",
   "mimetype": "text/x-python",
   "name": "python",
   "nbconvert_exporter": "python",
   "pygments_lexer": "ipython3",
   "version": "3.7.1"
  }
 },
 "nbformat": 4,
 "nbformat_minor": 4
}
